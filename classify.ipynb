{
 "cells": [
  {
   "cell_type": "code",
   "execution_count": 1,
   "id": "2c1d4d1a",
   "metadata": {},
   "outputs": [],
   "source": [
    "import os, sys\n",
    "p = os.path.abspath('..')\n",
    "sys.path.insert(1,p)"
   ]
  },
  {
   "cell_type": "code",
   "execution_count": 2,
   "id": "c4e179a9",
   "metadata": {},
   "outputs": [],
   "source": [
    "import pandas as pd\n",
    "import numpy as np\n",
    "\n",
    "# Custom class to classify suspicious transaction requests\n",
    "from classify import classify"
   ]
  },
  {
   "cell_type": "code",
   "execution_count": 302,
   "id": "a2c4c646",
   "metadata": {},
   "outputs": [],
   "source": [
    "# Pass a string of date (yymmdd) that you want to classify\n",
    "# This code pass 220601 to classify transaction requests occurred in 2022-06-01\n",
    "clf = classify(date='220601')"
   ]
  },
  {
   "cell_type": "code",
   "execution_count": 303,
   "id": "83124db8",
   "metadata": {},
   "outputs": [],
   "source": [
    "# Based on threshold value, clf.main function returns a series of customer number which made suspicious transaction requests on a designated date \n",
    "target_list = clf.main(threshold=-2, only_target=True)"
   ]
  },
  {
   "cell_type": "code",
   "execution_count": null,
   "id": "3ef33ee5",
   "metadata": {},
   "outputs": [],
   "source": [
    "\"\"\"\n",
    "\n",
    "# target_list Series example #\n",
    "\n",
    "index  custNo\n",
    "23     37482734\n",
    "27     23948248\n",
    "35     23489237\n",
    "41     23427364\n",
    "       ....\n",
    "\n",
    "2346   13849848\n",
    "4525   18237237\n",
    "2349   43587128\n",
    "\n",
    "\"\"\""
   ]
  },
  {
   "cell_type": "code",
   "execution_count": 308,
   "id": "94f3fbdd",
   "metadata": {},
   "outputs": [
    {
     "data": {
      "text/plain": [
       "0"
      ]
     },
     "execution_count": 308,
     "metadata": {},
     "output_type": "execute_result"
    }
   ],
   "source": [
    "# return a detected number of a specific custNo\n",
    "custno = 'specfic customer number'\n",
    "target_list.isin([custno]).sum()"
   ]
  },
  {
   "cell_type": "code",
   "execution_count": null,
   "id": "4199f83c",
   "metadata": {},
   "outputs": [],
   "source": []
  }
 ],
 "metadata": {
  "kernelspec": {
   "display_name": "test_env",
   "language": "python",
   "name": "test_env"
  },
  "language_info": {
   "codemirror_mode": {
    "name": "ipython",
    "version": 3
   },
   "file_extension": ".py",
   "mimetype": "text/x-python",
   "name": "python",
   "nbconvert_exporter": "python",
   "pygments_lexer": "ipython3",
   "version": "3.7.13"
  }
 },
 "nbformat": 4,
 "nbformat_minor": 5
}
