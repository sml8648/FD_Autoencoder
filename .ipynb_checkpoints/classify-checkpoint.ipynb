{
 "cells": [
  {
   "cell_type": "code",
   "execution_count": 1,
   "id": "2c1d4d1a",
   "metadata": {},
   "outputs": [],
   "source": [
    "import os, sys\n",
    "p = os.path.abspath('..')\n",
    "sys.path.insert(1,p)"
   ]
  },
  {
   "cell_type": "code",
   "execution_count": 2,
   "id": "c4e179a9",
   "metadata": {},
   "outputs": [],
   "source": [
    "import pandas as pd\n",
    "import numpy as np\n",
    "\n",
    "# Custom class for classify suspicious transaction requests\n",
    "from classify import classify"
   ]
  },
  {
   "cell_type": "code",
   "execution_count": 302,
   "id": "a2c4c646",
   "metadata": {},
   "outputs": [],
   "source": [
    "# Pass a string of date (yymmdd) that you want to classify\n",
    "# This code pass 220601 to classify transaction requests occurred in 2022-06-01\n",
    "clf = classify(date='220601')"
   ]
  },
  {
   "cell_type": "code",
   "execution_count": 303,
   "id": "83124db8",
   "metadata": {},
   "outputs": [],
   "source": [
    "# Based on threshold value, clf.main function returns a series of customer number which made suspicious transaction requests on a designated date \n",
    "target_list = clf.main(threshold=-2, only_target=True)"
   ]
  },
  {
   "cell_type": "code",
   "execution_count": 306,
   "id": "008811c7",
   "metadata": {},
   "outputs": [
    {
     "data": {
      "text/plain": [
       "23      1055112151\n",
       "27      1055112151\n",
       "35      1055749660\n",
       "41      1045458608\n",
       "46      1049258746\n",
       "           ...    \n",
       "9584    1049850793\n",
       "9600    1062673764\n",
       "9604    1035067657\n",
       "9615    1034882403\n",
       "9619    1102865105\n",
       "Name: custNo, Length: 1053, dtype: object"
      ]
     },
     "execution_count": 306,
     "metadata": {},
     "output_type": "execute_result"
    }
   ],
   "source": [
    "\"\"\"\n",
    "# target_list example #\n",
    "\n",
    "index  custNo\n",
    "23     37482734\n",
    "27     23948248\n",
    "35     23489237\n",
    "41     23427364\n",
    "       ....\n",
    "\n",
    "2346   13849848\n",
    "4525   18237237\n",
    "\n",
    "\"\"\""
   ]
  },
  {
   "cell_type": "code",
   "execution_count": 305,
   "id": "94f3fbdd",
   "metadata": {},
   "outputs": [
    {
     "data": {
      "text/plain": [
       "0"
      ]
     },
     "execution_count": 305,
     "metadata": {},
     "output_type": "execute_result"
    }
   ],
   "source": [
    "# return number of \n",
    "target_list.isin(['custNo']).sum()"
   ]
  }
 ],
 "metadata": {
  "kernelspec": {
   "display_name": "test_env",
   "language": "python",
   "name": "test_env"
  },
  "language_info": {
   "codemirror_mode": {
    "name": "ipython",
    "version": 3
   },
   "file_extension": ".py",
   "mimetype": "text/x-python",
   "name": "python",
   "nbconvert_exporter": "python",
   "pygments_lexer": "ipython3",
   "version": "3.7.13"
  }
 },
 "nbformat": 4,
 "nbformat_minor": 5
}
